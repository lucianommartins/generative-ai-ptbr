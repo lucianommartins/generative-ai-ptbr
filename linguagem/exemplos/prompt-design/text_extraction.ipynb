{
 "cells": [
  {
   "cell_type": "code",
   "execution_count": null,
   "metadata": {
    "id": "ur8xi4C7S06n"
   },
   "outputs": [],
   "source": [
    "# Copyright 2023 Google LLC\n",
    "#\n",
    "# Licensed under the Apache License, Version 2.0 (the \"License\");\n",
    "# you may not use this file except in compliance with the License.\n",
    "# You may obtain a copy of the License at\n",
    "#\n",
    "#     https://www.apache.org/licenses/LICENSE-2.0\n",
    "#\n",
    "# Unless required by applicable law or agreed to in writing, software\n",
    "# distributed under the License is distributed on an \"AS IS\" BASIS,\n",
    "# WITHOUT WARRANTIES OR CONDITIONS OF ANY KIND, either express or implied.\n",
    "# See the License for the specific language governing permissions and\n",
    "# limitations under the License."
   ]
  },
  {
   "cell_type": "markdown",
   "metadata": {
    "id": "JAPoU8Sm5E6e"
   },
   "source": [
    "# Extração de informações de textos com  Generative AI na Vertex AI \n",
    "\n",
    "<table align=\"left\">\n",
    "  <td>\n",
    "    <a href=\"https://colab.research.google.com/github/GoogleCloudPlatform/generative-ai/blob/main/language/intro_palm_api.ipynb\">\n",
    "      <img src=\"https://cloud.google.com/ml-engine/images/colab-logo-32px.png\" alt=\"Colab logo\"> Execute no Colab\n",
    "    </a>\n",
    "  </td>\n",
    "  <td>\n",
    "    <a href=\"https://github.com/GoogleCloudPlatform/generative-ai/blob/main/language/intro_palm_api.ipynb\">\n",
    "      <img src=\"https://cloud.google.com/ml-engine/images/github-logo-32px.png\" alt=\"GitHub logo\">\n",
    "      Veja no GitHub\n",
    "    </a>\n",
    "  </td>\n",
    "  <td>\n",
    "    <a href=\"https://console.cloud.google.com/vertex-ai/workbench/deploy-notebook?download_url=https://raw.githubusercontent.com/GoogleCloudPlatform/generative-ai/blob/main/language/intro_palm_api.ipynb\">\n",
    "      <img src=\"https://lh3.googleusercontent.com/UiNooY4LUgW_oTvpsNhPpQzsstV5W8F7rYgxgGBD85cWJoLmrOzhVs_ksK_vgx40SHs7jCqkTkCk=e14-rj-sc0xffffff-h130-w32\" alt=\"Vertex AI logo\">\n",
    "      Execute no Vertex AI Workbench\n",
    "    </a>\n",
    "  </td>\n",
    "</table>"
   ]
  },
  {
   "cell_type": "markdown",
   "metadata": {
    "id": "tvgnzT1CKxrO"
   },
   "source": [
    "## Visão geral\n",
    "\n",
    "A extração de informações é um processo que pode ser feito manualmente ou automaticamente. A extração manual de informações é o processo de ler o documento e copiar informações para um novo documento. A extração automática de informações é o processo de usar um software para extrair informações do documento.\n",
    "\n",
    "A extração de informações de textos pode ser usada para uma variedade de propósitos. Um propósito comum é converter documentos em um formato legível por máquina. Isso pode ser útil para armazenar documentos em um banco de dados ou para processar documentos com software. Outra finalidade comum é extrair informações de documentos. Isso pode ser útil para localizar informações específicas em um documento ou para resumir o conteúdo de um documento.\n",
    "\n",
    "Modelos de linguagem grandes (LLMs) são bons para extração de informações porque são treinados em conjuntos de dados massivos de texto e código, o que lhes permite aprender as relações entre palavras e frases. Eles também podem entender o contexto do texto e gerar texto, o que lhes permite extrair informações que não são explicitamente declaradas ou preencher as lacunas no texto que estão faltando. As respostas dos LLMs também podem ser melhoradas por meio de métodos como prompts de poucos disparos.\n",
    "\n",
    "Saiba mais sobre os prompts de extração na [documentação oficial](https://cloud.google.com/vertex-ai/docs/generative-ai/text/extraction-prompts)."
   ]
  },
  {
   "cell_type": "markdown",
   "metadata": {
    "id": "d975e698c9a4"
   },
   "source": [
    "### Objetivo\n",
    "\n",
    "Neste tutorial, você aprenderá como usar modelos generativos para extrair as informações de textos trabalhando com os seguintes exemplos:\n",
    "- Extração de especificações técnicas do Google Pixel\n",
    "- Solução de problemas de WiFi\n",
    "- Responder a perguntas como um personagem\n",
    "- Convertendo uma lista de ingredientes para o formato JSON\n",
    "- Organizar os resultados de uma extração de texto"
   ]
  },
  {
   "cell_type": "markdown",
   "metadata": {
    "id": "aed92deeb4a0"
   },
   "source": [
    "### Custos\n",
    "Este tutorial usa os seguintes componentes de Google Cloud:\n",
    "\n",
    "* Vertex AI Generative AI Studio\n",
    "\n",
    "Saiba mais sobre possíveis custos envolvidos [preços da Vertex AI](https://cloud.google.com/vertex-ai/pricing),\n",
    "e use a [Calculadora de preços](https://cloud.google.com/products/calculator/)\n",
    "para gerar uma estimativa de custo com base no uso projetado."
   ]
  },
  {
   "cell_type": "markdown",
   "metadata": {
    "id": "xoMiNbiCDM2w"
   },
   "source": [
    "## Primeiros Passos"
   ]
  },
  {
   "cell_type": "markdown",
   "metadata": {
    "id": "2a5AEr0lkLKD"
   },
   "source": [
    "### Instalando os SDK da Vertex AI e da Cloud Translate API"
   ]
  },
  {
   "cell_type": "code",
   "execution_count": null,
   "metadata": {
    "id": "148dd6321946",
    "scrolled": true,
    "tags": []
   },
   "outputs": [],
   "source": [
    "!pip install google-cloud-aiplatform google-cloud-translate --upgrade --user"
   ]
  },
  {
   "cell_type": "markdown",
   "metadata": {
    "id": "FLVWFKFwkLKE"
   },
   "source": [
    "**Somente Colab:** Descomente a célula a seguir para reiniciar o kernel ou use o botão para reiniciar o kernel."
   ]
  },
  {
   "cell_type": "code",
   "execution_count": null,
   "metadata": {
    "id": "_Hsqwn4hkLKE"
   },
   "outputs": [],
   "source": [
    "# # Reinicia automaticamente o kernel após as instalações para que seu ambiente possa acessar os novos pacotes\n",
    "# import IPython\n",
    "\n",
    "# app = IPython.Application.instance()\n",
    "# app.kernel.do_shutdown(True)"
   ]
  },
  {
   "cell_type": "markdown",
   "metadata": {
    "id": "Xe7OuYuGkLKF"
   },
   "source": [
    "### Autenticando seu ambiente de notebook\n",
    "* Se você estiver usando o **Colab** para executar este notebook, descomente a célula abaixo e continue.\n",
    "* Se você estiver usando o **Vertex AI Workbench**, confira as instruções de configuração [aqui](../setup-env/README.md)."
   ]
  },
  {
   "cell_type": "code",
   "execution_count": null,
   "metadata": {
    "id": "U9Gx2SAZkLKF"
   },
   "outputs": [],
   "source": [
    "# from google.colab import auth\n",
    "# auth.authenticate_user()"
   ]
  },
  {
   "cell_type": "markdown",
   "metadata": {
    "id": "960505627ddf"
   },
   "source": [
    "### Importando as bibliotecas necessárias"
   ]
  },
  {
   "cell_type": "markdown",
   "metadata": {},
   "source": [
    "**Somente Colab:** Descomente a célula a seguir para realizar o processo adequado de inicialização da SDK da Vertex AI.  "
   ]
  },
  {
   "cell_type": "code",
   "execution_count": null,
   "metadata": {},
   "outputs": [],
   "source": [
    "# import vertexai\n",
    "\n",
    "# PROJECT_ID = \"[seu-project-id]\"  # @param {type:\"string\"}\n",
    "# vertexai.init(project=PROJECT_ID, location=\"us-central1\")"
   ]
  },
  {
   "cell_type": "code",
   "execution_count": null,
   "metadata": {
    "id": "PyQmSRbKA8r-"
   },
   "outputs": [],
   "source": [
    "from vertexai.preview.language_models import TextGenerationModel"
   ]
  },
  {
   "cell_type": "markdown",
   "metadata": {
    "id": "UP76a2la7O-a"
   },
   "source": [
    "#### Carregando o modelo `text-bison`"
   ]
  },
  {
   "cell_type": "code",
   "execution_count": null,
   "metadata": {
    "id": "7isig7e07O-a"
   },
   "outputs": [],
   "source": [
    "generation_model = TextGenerationModel.from_pretrained(\"text-bison@001\")"
   ]
  },
  {
   "cell_type": "markdown",
   "metadata": {},
   "source": [
    "#### Criando a função *wrapper* para utilizar os modelos em Português\n",
    "\n",
    "Até o momento desde treinamento, as API do Generative AI Studio suportam somente interações no idioma inglês. Para fazermos interações utilizando o idioma português, vamos utilizar a [Cloud Translation API](https://cloud.google.com/translate) para traduzir as nossas solicitações do português para o inglês e as respostas da API de inglês para português."
   ]
  },
  {
   "cell_type": "code",
   "execution_count": null,
   "metadata": {},
   "outputs": [],
   "source": [
    "from google.cloud import translate\n",
    "\n",
    "project_id = !gcloud config list project\n",
    "project_id = project_id[1].split('=')[1].strip()\n",
    "parent = f'projects/' + project_id\n",
    "\n",
    "\n",
    "def traduza(texto, idioma_destino):\n",
    "    client = translate.TranslationServiceClient()\n",
    "\n",
    "    response = client.translate_text(\n",
    "        parent=parent,\n",
    "        contents=[texto],\n",
    "        target_language_code=idioma_destino,\n",
    "        mime_type=\"text/plain\"\n",
    "    )\n",
    "\n",
    "    return response.translations[0].translated_text"
   ]
  },
  {
   "cell_type": "markdown",
   "metadata": {
    "id": "wbll-sxLD58J"
   },
   "source": [
    "## Extração de informações de texto"
   ]
  },
  {
   "cell_type": "markdown",
   "metadata": {
    "id": "H_uxqUPADM2z"
   },
   "source": [
    "### Extração das especificações técnicas do Google Pixel\n",
    "\n",
    "Neste exemplo, você irá extrair as especificações técnicas de um telefone Pixel do texto no formato JSON usando a API PaLM."
   ]
  },
  {
   "cell_type": "code",
   "execution_count": null,
   "metadata": {
    "id": "-T5drTkzDM2z"
   },
   "outputs": [],
   "source": [
    "prompt = traduza(\"\"\"\n",
    "Extraia as especificações técnicas do texto abaixo no formato JSON.\n",
    "\n",
    "Texto: Google Nest WiFi, velocidade de rede de até 1200Mpbs, frequências de 2,4 GHz e 5 GHz, protocolo WP3\n",
    "JSON: {\n",
    "   \"produto\":\"Google Nest WiFi\",\n",
    "   \"velocidade\":\"1200Mpbs\",\n",
    "   \"frequências\": [\"2,4GHz\", \"5GHz\"],\n",
    "   \"protocolo\":\"WP3\"\n",
    "}\n",
    "\n",
    "Texto: Google Pixel 7, rede 5G, 8 GB de RAM, processador Tensor G2, 128 GB de armazenamento, coral\n",
    "JSON:\n",
    "\"\"\", \"en\")\n",
    "\n",
    "print(\n",
    "    traduza(generation_model.predict(prompt, temperature=0.2, max_output_tokens=1024, top_k=40, top_p=0.8).text, \"pt\")\n",
    ")"
   ]
  },
  {
   "cell_type": "markdown",
   "metadata": {
    "id": "Rpspa8CzDM20"
   },
   "source": [
    "### Solução de problemas de WiFi\n",
    "\n",
    "Neste exemplo, você pede ao LLM para responder a uma pergunta sobre a solução de problemas de um roteador Google WiFi com base na descrição das diferentes luzes de status no roteador. O modelo só poderá responder com o texto que foi fornecido, o que ajuda a evitar que gere respostas potencialmente incorretas. Aqui está como você pode fazer isso usando a API PaLM."
   ]
  },
  {
   "cell_type": "code",
   "execution_count": null,
   "metadata": {
    "id": "RmzlnDMBDM20"
   },
   "outputs": [],
   "source": [
    "prompt = traduza(\"\"\"\n",
    "Responda a questão usando o texto abaixo. Responda apenas com o texto fornecido.\n",
    "Pergunta: O que devo fazer para consertar meu WiFi desconectado? A luz no meu roteador Google WiFi está amarela e piscando lentamente.\n",
    "\n",
    "Texto:\n",
    "Cor: Sem luz\n",
    "O que significa: o roteador não tem energia ou a luz foi reduzida no aplicativo.\n",
    "O que fazer:\n",
    "Verifique se o cabo de alimentação está conectado corretamente ao roteador e a uma tomada que esteja funcionando.\n",
    "Se o seu dispositivo já estiver configurado e a luz estiver apagada, verifique as configurações de brilho da luz no aplicativo.\n",
    "Se ainda não houver luz, entre em contato com o suporte ao cliente Google WiFi.\n",
    "\n",
    "Cor: branco sólido, sem luz, branco sólido\n",
    "O que significa: O dispositivo está inicializando.\n",
    "O que fazer:\n",
    "Aguarde o dispositivo inicializar. Isso leva cerca de um minuto. Quando terminar, ele pulsará lentamente em branco, informando que está pronto para a configuração.\n",
    "\n",
    "Cor: Branco de pulsação lenta\n",
    "O que significa: O dispositivo está pronto para configuração.\n",
    "O que fazer:\n",
    "Use o app Google Home para configurar seu roteador.\n",
    "\n",
    "Cor: Branco sólido\n",
    "O que significa: o roteador está online e está tudo bem.\n",
    "O que fazer:\n",
    "Você está online. Aproveitar!\n",
    "\n",
    "Cor: amarelo pulsando lentamente\n",
    "O que significa: há um erro de rede.\n",
    "O que fazer:\n",
    "Verifique se o cabo Ethernet está conectado ao roteador e ao modem e se ambos os dispositivos estão ligados. Pode ser necessário desconectar e conectar cada dispositivo novamente.\n",
    "\n",
    "Cor: Amarelo piscando rápido\n",
    "O que significa: você está pressionando o botão de redefinição e redefinindo a configuração original deste dispositivo.\n",
    "O que fazer:\n",
    "Se você continuar pressionando o botão de reinicialização, após cerca de 12 segundos, a luz ficará amarela sólida. Quando estiver amarelo sólido, solte o botão de redefinição de fábrica.\n",
    "\n",
    "Cor: amarelo sólido\n",
    "O que significa: o roteador está sendo redefinido para as configurações de fábrica.\n",
    "O que fazer:\n",
    "Isso pode levar até 10 minutos. Quando terminar, o dispositivo será reinicializado e começará a piscar em branco, informando que está pronto para a configuração.\n",
    "Imagem Luz vermelha constante Vermelho sólido Algo está errado. Falha crítica. Reinicie o roteador de fábrica. Se a luz permanecer vermelha, entre em contato com o suporte ao cliente WiFi.\n",
    "\"\"\", \"en\")\n",
    "print(\n",
    "    traduza(generation_model.predict(prompt, temperature=0.2, max_output_tokens=256, top_k=1, top_p=0.8).text, \"pt\")\n",
    ")"
   ]
  },
  {
   "cell_type": "markdown",
   "metadata": {
    "id": "ZtL1SdHqDM21"
   },
   "source": [
    "### Responder a perguntas como um personagem\n",
    "\n",
    "Agora, você instrui o LLM a fingir ser Klara, uma pessoa. Você também contará ao modelo sobre os traços de personalidade de Klara. Em seguida, você pedirá ao modelo que responda a uma pergunta como Klara responderia."
   ]
  },
  {
   "cell_type": "code",
   "execution_count": null,
   "metadata": {
    "id": "kvT8WVNnDM21"
   },
   "outputs": [],
   "source": [
    "prompt = traduza(\"\"\"\n",
    "Você é a Klara.\n",
    "Klara é gestora de investimentos.\n",
    "Klara só responde se Klara tiver certeza de que está correto.\n",
    "Klara responde à pergunta do usuário com base nos resumos das páginas abaixo.\n",
    "Klara gera a ID de referência em que Klara encontrou a resposta para cada frase da resposta.\n",
    "Klara também resume a parte onde se encontram as informações.\n",
    "\n",
    "Resumos das páginas: ['ID de referência 1. O UBS quer ser visto como um banco global com raízes suíças, não apenas um banco europeu. O novo presidente do conselho, \\\n",
    "                    Colm Kelleher, e o CEO, Ralph Hamers, realizaram uma série de reuniões com influentes gestores de fundos dos EUA para aumentar suas participações \\\n",
    "                    no banco. O UBS é um dos bancos europeus mais valiosos com uma relação preço/valor contábil de 1.', 'ID de referência 2. Credit Suisse vende \\\n",
    "                    participação de 30% na gestora de ativos suíça Energy Infrastructure Partners. A EIP é especializada em investimentos de capital de longo prazo \\\n",
    "                    para ativos de infraestrutura de energia e renováveis em larga escala. A transação pode fazer parte de um esforço contínuo do banco suíço para \\\n",
    "                    reduzir ainda mais a lacuna de capital.' O príncipe Mohammed injetaria cerca de US$ 500 milhões na cisão do CS First Boston. Outros investidores \\\n",
    "                    podem incluir o ex-chefe do Barclays, Bob Diamonds, Atlas Merchant Capital. O Saudi National Bank já possui uma participação de 9,9 por cento na \\\n",
    "                    problemática instituição suíça. . O Wall Street Journal informou que a Apollo também está interessada em investir no CS First Boston. A divisão \\\n",
    "                    de banco de investimento de banco de investimento está prestes a ser desmembrada em uma nova unidade .', 'ID de referência 5. O banco privado \\\n",
    "                    Pictet, com sede em Genebra, contratou uma nova equipe em seu negócio de investimento no mercado privado de bilhões de dólares . Edmund Buckley, \\\n",
    "                    Nikolaus Hubmann, Sean Howard, Jan Dreesen e Hugo Hickson trabalharão na área de investimentos diretos em private equity no futuro. O \\\n",
    "                    comprometimento da equipe de Buckley pode ser visto como um golpe para Elif Aktuğ, parceiro da Pictet .', 'ID de referência 6. O UBS quer ser visto \\\n",
    "                    como um banco global com raízes suíças, não apenas um banco europeu . O novo presidente do conselho, Colm Kelleher, e o CEO, Ralph Hamers, \\\n",
    "                    realizaram uma série de reuniões com influentes gestores de fundos dos EUA para aumentar suas participações no banco. O UBS é um dos bancos \\\n",
    "                    europeus mais valiosos com uma relação preço/valor contábil de 1 .', 'ID de referência 7. A Apollo Global Management, sediada nos EUA, está \\\n",
    "                    entre um grupo de empresas financeiras em negociações com o Credit Suisse sobre uma participação no banco de investimento renovado. O Wall \\\n",
    "                    Street Journal informou que a Apollo também está interessada em investir no CS First Boston. A divisão de banco de investimento de bancos de \\\n",
    "                    investimento está definida para ser dividida em uma nova unidade.', 'ID de referência 8. A subsidiária da Apex com sede em Luxemburgo European \\\n",
    "                    Depositary Bank (EDB) e o especialista em securitização Gentwo firmam parceria . A EDB e a Gentwo oferecerão agentes pagadores e serviços \\\n",
    "                    bancários a investidores terceirizados em todo o mundo. Gentwo desenvolve plataformas para gerentes de ativos, bancos, escritórios familiares e \\\n",
    "                    capitalistas de risco .', 'Referência ID 9. O SNB tem perseguido planos para adquirir participações em instituições financeiras europeias e \\\n",
    "                    americanas há algum tempo . Credit Suisse, Julius Baer, Standard Chartered e o Asian DBS Group também foram mencionados como possíveis alvos .', \\\n",
    "                    'Referência ID 10. Zuercher Kantonalbank pretende expandir seus negócios de private banking, inclusive no exterior. O CEO Urs Baumann vê o Credit \\\n",
    "                    Suisse como um parceiro confiável para o banco estatal. A Baumann continuará a se concentrar em reduzir a dependência dos bancos no negócio de \\\n",
    "                    diferencial de juros em uma tentativa de diversificar seus negócios.']\n",
    "\n",
    "Pergunta do usuário: Os bancos globais estão investindo em iniciativas de sustentabilidade?\n",
    "Resposta da Klara:\n",
    "\"\"\", \"en\")\n",
    "\n",
    "print(\n",
    "    traduza(generation_model.predict(prompt, temperature=0.2, max_output_tokens=256, top_k=40, top_p=0.8).text, \"pt\")\n",
    ")"
   ]
  },
  {
   "cell_type": "markdown",
   "metadata": {
    "id": "CJTjCPMNDM22"
   },
   "source": [
    "### Convertendo uma lista de ingredientes para o formato JSON\n",
    "\n",
    "Suponha que você queira listar ingredientes em receitas para inserir em um banco de dados, o que requer uma saída bem formatada como JSON. Isso pode ser feito usando um LLM da seguinte maneira:"
   ]
  },
  {
   "cell_type": "code",
   "execution_count": null,
   "metadata": {
    "id": "fqrWfuZaDM22"
   },
   "outputs": [],
   "source": [
    "prompt = traduza(\"\"\"\n",
    "Extraia os ingredientes da seguinte receita. Retorne os ingredientes no formato JSON com as chaves: ingrediente, quantidade, tipo.\n",
    "\n",
    "Ingredientes:\n",
    "* 1 colher de sopa de azeite\n",
    "* 1 cebola picada\n",
    "* 2 cenouras picadas\n",
    "* 2 talos de aipo picados\n",
    "* 1 colher de chá de cominho moído\n",
    "* 1/2 colher de chá de coentro moído\n",
    "* 1/4 colher de chá de açafrão em pó\n",
    "* 1/4 colher de chá de pimenta caiena (opcional)\n",
    "* Sal e pimenta a gosto\n",
    "* 425g de feijão preto, lavado e escorrido\n",
    "* 425g de feijão, lavado e escorrido\n",
    "* 420g lata de tomate em cubos, não escorrido\n",
    "* 280g lata de tomate em cubos com pimentões verdes, não drenados\n",
    "* 4 xícaras de caldo de legumes\n",
    "* 1 xícara de coentro fresco picado\n",
    "\"\"\", \"en\")\n",
    "\n",
    "print(\n",
    "    traduza(generation_model.predict(prompt, temperature=0.2, max_output_tokens=1024, top_k=40, top_p=0.8).text, \"pt\")\n",
    ")"
   ]
  },
  {
   "cell_type": "markdown",
   "metadata": {
    "id": "4aOG3EnKDM23"
   },
   "source": [
    "### Organizando os resultados de uma extração de informações\n",
    "\n",
    "Nesta seção, você extrai as informações desejadas de um bloco de texto e as organiza de maneira estruturada, como separar por vírgulas. Aqui você usa prompt few-shot para orientar o modelo a formatar suas saídas para serem separadas por vírgulas."
   ]
  },
  {
   "cell_type": "code",
   "execution_count": null,
   "metadata": {
    "id": "LKHhBL9fDM23"
   },
   "outputs": [],
   "source": [
    "prompt = traduza(\"\"\"\n",
    "Mensagem: Rachel Green (Jennifer Aniston), uma mulher protegida, mas amigável, foge do dia do casamento e de uma vida rica, mas insatisfatória, e encontra a amiga de infância Monica Geller (Courteney Cox), uma chef tensa, mas atenciosa.\n",
    "Rachel se torna garçonete no café Central Perk do West Village depois que ela se muda para o apartamento de Monica acima do Central Perk e se junta ao grupo de amigas solteiras de Monica na casa dos 20 anos:\n",
    "a colega de quarto anterior Phoebe Buffay (Lisa Kudrow), uma estranha massagista e musicista; o vizinho Joey Tribbiani (Matt LeBlanc), um ator obstinado, mas leal e esforçado; O colega de quarto de Joey, Chandler Bing ( Matthew Perry ),\n",
    "um processador de dados sarcástico e autodepreciativo; e o irmão mais velho de Monica e colega de quarto de faculdade de Chandler, Ross Geller (David Schwimmer), um paleontólogo doce, mas inseguro.\n",
    "\n",
    "Extraia os personagens e os atores que os interpretaram da mensagem acima:\n",
    "Rachel Green - Jennifer Aniston, Monica Geller - Courteney Cox, Phoebe Buffay - Lisa Kudrow, Joey Tribbiani - Matt LeBlanc, Chandler Bing - Matthew Perry, Ross Geller - David Schwimmer\n",
    "\n",
    "Mensagem: Jogos como xadrez, pôquer, Go e muitos videogames sempre foram um terreno fértil para a pesquisa de IA. Diplomacia é um jogo de negociação e formação de alianças para sete jogadores, jogado em um antigo mapa da Europa dividido\n",
    "em províncias, onde cada jogador controla várias unidades (regras de Diplomacia). Na versão padrão do jogo, chamada Press Diplomacy, cada turno inclui uma fase de negociação, após a qual todos os jogadores revelam seu\n",
    "movimentos escolhidos simultaneamente. O coração da Diplomacia é a fase de negociação, onde os jogadores tentam chegar a um acordo sobre seus próximos movimentos. Por exemplo, uma unidade pode apoiar outra unidade, permitindo-lhe superar a resistência de outras unidades,\n",
    "conforme ilustrado aqui: Abordagens computacionais para Diplomacia têm sido pesquisadas desde a década de 1980, muitas das quais foram exploradas em uma versão mais simples do jogo chamado No-Press Diplomacy, onde a comunicação estratégica entre\n",
    "jogadores não é permitido. Os pesquisadores também propuseram protocolos de negociação amigáveis ao computador, às vezes chamados \\342\\200\\234Restricted-Press\\342\\200\\235.\n",
    "\n",
    "Extraia a definição de Diplomacia:\n",
    "Um jogo de negociação e formação de alianças para sete jogadores\n",
    "\n",
    "\n",
    "Mensagem: Em 2016, quando não estávamos usando simulação e estávamos usando uma pequena configuração de laboratório de robôs industriais para aprender a pegar pequenos objetos como brinquedos, chaves e utensílios domésticos do dia a dia, levou o equivalente a\n",
    "quatro meses para um robô aprender a realizar uma pegada simples com uma taxa de sucesso de 75%. Hoje, um único robô aprende a realizar uma tarefa complexa como abrir portas com uma taxa de sucesso de 90%% em menos de um dia\n",
    "de aprendizado do mundo real. Ainda mais empolgante, mostramos que podemos desenvolver os algoritmos e aprendizados da abertura de portas e aplicá-los a uma nova tarefa: endireitar cadeiras em nossos cafés. Este progresso nos dá\n",
    "esperamos que nossa tentativa de construir robôs de aprendizagem de uso geral seja possível.\n",
    "\n",
    "Extraia as taxas de sucesso dos robôs em 2016 e hoje, respectivamente:\n",
    "75%, 90%\n",
    "\n",
    "Mensagem: A CapitalG foi fundada há uma década para capacitar empreendedores com a experiência incomparável da Alphabet e do Google em crescimento.\n",
    "Temos o privilégio de compartilhar as lições aprendidas ao ajudar a escalar Google, Stripe, Airbnb, CrowdStrike, Databricks e Zscaler com a próxima onda de empresas de tecnologia geracional, talvez incluindo a sua.\n",
    "A Alphabet é nosso único LP e fornece capital paciente e de longo prazo. Como um fundo de crescimento independente, nossas prioridades estão alinhadas com nossos empreendedores. As empresas CapitalG atingiram o ajuste do mercado de produtos e estão prontas para escalar. Mantemos um portfólio pequeno e concentrado para que cada empresa receba capital substancial e suporte prático.\n",
    "\n",
    "Extraia as empresas financiadas pela CapitalG:\n",
    "\"\"\", \"en\")\n",
    "\n",
    "print(\n",
    "    traduza(generation_model.predict(prompt, temperature=0.2, max_output_tokens=256, top_k=1, top_p=0.8).text, \"pt\")\n",
    ")"
   ]
  },
  {
   "cell_type": "markdown",
   "metadata": {
    "id": "2032a159249c"
   },
   "source": [
    "Como você pode ver na saída acima, com base no prompt few-shot, o LLM gerou a lista de nomes das empresas financiadas pelo CapitalG no formato separado por vírgulas."
   ]
  },
  {
   "cell_type": "code",
   "execution_count": null,
   "metadata": {},
   "outputs": [],
   "source": []
  }
 ],
 "metadata": {
  "colab": {
   "name": "text_extraction.ipynb",
   "toc_visible": true
  },
  "environment": {
   "kernel": "python3",
   "name": "tf2-gpu.2-8.m107",
   "type": "gcloud",
   "uri": "gcr.io/deeplearning-platform-release/tf2-gpu.2-8:m107"
  },
  "kernelspec": {
   "display_name": "Python 3 (ipykernel) (Local)",
   "language": "python",
   "name": "local-python3"
  },
  "language_info": {
   "codemirror_mode": {
    "name": "ipython",
    "version": 3
   },
   "file_extension": ".py",
   "mimetype": "text/x-python",
   "name": "python",
   "nbconvert_exporter": "python",
   "pygments_lexer": "ipython3",
   "version": "3.7.12"
  }
 },
 "nbformat": 4,
 "nbformat_minor": 4
}
