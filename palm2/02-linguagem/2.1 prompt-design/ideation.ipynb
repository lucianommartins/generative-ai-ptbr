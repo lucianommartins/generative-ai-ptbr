{
 "cells": [
  {
   "cell_type": "code",
   "execution_count": null,
   "metadata": {
    "id": "ur8xi4C7S06n"
   },
   "outputs": [],
   "source": [
    "# Copyright 2023 Google LLC\n",
    "#\n",
    "# Licensed under the Apache License, Version 2.0 (the \"License\");\n",
    "# you may not use this file except in compliance with the License.\n",
    "# You may obtain a copy of the License at\n",
    "#\n",
    "#     https://www.apache.org/licenses/LICENSE-2.0\n",
    "#\n",
    "# Unless required by applicable law or agreed to in writing, software\n",
    "# distributed under the License is distributed on an \"AS IS\" BASIS,\n",
    "# WITHOUT WARRANTIES OR CONDITIONS OF ANY KIND, either express or implied.\n",
    "# See the License for the specific language governing permissions and\n",
    "# limitations under the License."
   ]
  },
  {
   "cell_type": "markdown",
   "metadata": {
    "id": "JAPoU8Sm5E6e"
   },
   "source": [
    "# Ideação com modelos generativos na Vertex AI\n",
    "\n",
    "<table align=\"left\">\n",
    "  <td>\n",
    "    <a href=\"https://colab.research.google.com/github/GoogleCloudPlatform/generative-ai/blob/main/language/intro_palm_api.ipynb\">\n",
    "      <img src=\"https://cloud.google.com/ml-engine/images/colab-logo-32px.png\" alt=\"Colab logo\"> Execute no Colab\n",
    "    </a>\n",
    "  </td>\n",
    "  <td>\n",
    "    <a href=\"https://github.com/GoogleCloudPlatform/generative-ai/blob/main/language/intro_palm_api.ipynb\">\n",
    "      <img src=\"https://cloud.google.com/ml-engine/images/github-logo-32px.png\" alt=\"GitHub logo\">\n",
    "      Veja no GitHub\n",
    "    </a>\n",
    "  </td>\n",
    "  <td>\n",
    "    <a href=\"https://console.cloud.google.com/vertex-ai/workbench/deploy-notebook?download_url=https://raw.githubusercontent.com/GoogleCloudPlatform/generative-ai/blob/main/language/intro_palm_api.ipynb\">\n",
    "      <img src=\"https://lh3.googleusercontent.com/UiNooY4LUgW_oTvpsNhPpQzsstV5W8F7rYgxgGBD85cWJoLmrOzhVs_ksK_vgx40SHs7jCqkTkCk=e14-rj-sc0xffffff-h130-w32\" alt=\"Vertex AI logo\">\n",
    "      Execute no Vertex AI Workbench\n",
    "    </a>\n",
    "  </td>\n",
    "</table>"
   ]
  },
  {
   "cell_type": "markdown",
   "metadata": {
    "id": "tvgnzT1CKxrO"
   },
   "source": [
    "## Visão geral\n",
    "\n",
    "Ideação é o processo criativo de gerar, desenvolver e comunicar novas ideias. É uma parte fundamental do processo de `design thinking` e pode ser usado para resolver problemas, criar novos produtos ou serviços ou outras tarefas criativas.\n",
    "\n",
    "Os modelos generativos são uma ferramenta poderosa que pode ser usada para impulsionar a criatividade e a inovação. Ao aprender como usá-los de forma eficaz, você pode melhorar sua capacidade de apresentar novas ideias e soluções para problemas. Uma parte fundamental disso é aprender como estruturar prompts para usar modelos generativos para tarefas de ideação.\n",
    "\n",
    "Saiba mais sobre o design de prompt na [documentação oficial](https://cloud.google.com/vertex-ai/docs/generative-ai/text/text-overview#prompt_structure)."
   ]
  },
  {
   "cell_type": "markdown",
   "metadata": {
    "id": "d975e698c9a4"
   },
   "source": [
    "### Objetivo\n",
    "\n",
    "Neste tutorial, você aprenderá a usar modelos generativos do Vertex AI SDK para acelerar o processo de criação trabalhando com os seguintes exemplos:\n",
    "- Geração de campanha de marketing\n",
    "- Criação de perguntas de compreensão de leitura\n",
    "- Geração de memes\n",
    "- Geração de perguntas para entrevistas\n",
    "- Geração de nomes\n",
    "- Dicas e conselhos gerais"
   ]
  },
  {
   "cell_type": "markdown",
   "metadata": {
    "id": "aed92deeb4a0"
   },
   "source": [
    "### Custos\n",
    "Este tutorial usa os seguintes componentes de Google Cloud:\n",
    "\n",
    "* Vertex AI Studio\n",
    "\n",
    "Saiba mais sobre possíveis custos envolvidos [preços da Vertex AI](https://cloud.google.com/vertex-ai/pricing),\n",
    "e use a [Calculadora de preços](https://cloud.google.com/products/calculator/)\n",
    "para gerar uma estimativa de custo com base no uso projetado."
   ]
  },
  {
   "cell_type": "markdown",
   "metadata": {
    "id": "UwfLa-Uzua-4"
   },
   "source": [
    "## Primeiros Passos"
   ]
  },
  {
   "cell_type": "markdown",
   "metadata": {
    "id": "2a5AEr0lkLKD"
   },
   "source": [
    "### Instalando os SDK da Vertex AI"
   ]
  },
  {
   "cell_type": "code",
   "execution_count": null,
   "metadata": {
    "id": "148dd6321946",
    "scrolled": true,
    "tags": []
   },
   "outputs": [],
   "source": [
    "!pip install google-cloud-aiplatform --upgrade --user"
   ]
  },
  {
   "cell_type": "markdown",
   "metadata": {},
   "source": [
    "**Somente Colab:** Descomente a célula a seguir para reiniciar o kernel ou use o botão para reiniciar o kernel."
   ]
  },
  {
   "cell_type": "code",
   "execution_count": null,
   "metadata": {
    "id": "_Hsqwn4hkLKE"
   },
   "outputs": [],
   "source": [
    "# # Reinicia automaticamente o kernel após as instalações para que seu ambiente possa acessar os novos pacotes\n",
    "# import IPython\n",
    "\n",
    "# app = IPython.Application.instance()\n",
    "# app.kernel.do_shutdown(True)"
   ]
  },
  {
   "cell_type": "markdown",
   "metadata": {
    "id": "Xe7OuYuGkLKF"
   },
   "source": [
    "### Autenticando seu ambiente de notebook\n",
    "* Se você estiver usando o **Colab** para executar este notebook, descomente a célula abaixo e continue.\n",
    "* Se você estiver usando o **Vertex AI Workbench**, confira as instruções de configuração [aqui](../../setup-env/README.md)."
   ]
  },
  {
   "cell_type": "code",
   "execution_count": null,
   "metadata": {
    "id": "U9Gx2SAZkLKF"
   },
   "outputs": [],
   "source": [
    "# from google.colab import auth\n",
    "# auth.authenticate_user()"
   ]
  },
  {
   "cell_type": "markdown",
   "metadata": {
    "id": "960505627ddf"
   },
   "source": [
    "### Importando as bibliotecas necessárias"
   ]
  },
  {
   "cell_type": "markdown",
   "metadata": {},
   "source": [
    "**Somente Colab:** Descomente a célula a seguir para realizar o processo adequado de inicialização da SDK da Vertex AI.  "
   ]
  },
  {
   "cell_type": "code",
   "execution_count": null,
   "metadata": {},
   "outputs": [],
   "source": [
    "# import vertexai\n",
    "\n",
    "# PROJECT_ID = \"[seu-project-id]\"  # @param {type:\"string\"}\n",
    "# vertexai.init(project=PROJECT_ID, location=\"us-central1\")"
   ]
  },
  {
   "cell_type": "code",
   "execution_count": null,
   "metadata": {
    "id": "PyQmSRbKA8r-"
   },
   "outputs": [],
   "source": [
    "import os\n",
    "os.environ['TF_CPP_MIN_LOG_LEVEL'] = '3' \n",
    "\n",
    "import warnings\n",
    "warnings.simplefilter(\"ignore\", UserWarning)\n",
    "\n",
    "from vertexai.language_models import TextGenerationModel"
   ]
  },
  {
   "cell_type": "markdown",
   "metadata": {
    "id": "UP76a2la7O-a"
   },
   "source": [
    "#### Carregando o modelo `text-bison`"
   ]
  },
  {
   "cell_type": "code",
   "execution_count": null,
   "metadata": {
    "id": "7isig7e07O-a"
   },
   "outputs": [],
   "source": [
    "generation_model = TextGenerationModel.from_pretrained(\"text-bison@001\")"
   ]
  },
  {
   "cell_type": "markdown",
   "metadata": {
    "id": "LoYLyYlLxN72"
   },
   "source": [
    "## Exemplos de ideação"
   ]
  },
  {
   "cell_type": "markdown",
   "metadata": {
    "id": "Km9MirdFua-5"
   },
   "source": [
    "### Geração de campanha de marketing\n",
    "\n",
    "Neste exemplo, nosso exemplo de geração envolverá o processo de criação de uma campanha sobre sustentabilidade. Vamos ver como isso pode ser feito usando a API do PaLM."
   ]
  },
  {
   "cell_type": "code",
   "execution_count": null,
   "metadata": {
    "id": "q2v5Pdkdua-6",
    "scrolled": true,
    "tags": []
   },
   "outputs": [],
   "source": [
    "prompt = \"Gere uma campanha de marketing sobre moda e sustentabilidade\"\n",
    "\n",
    "print(\n",
    "    generation_model.predict(prompt, temperature=0.2, max_output_tokens=1024, top_k=40, top_p=0.8).text\n",
    ")"
   ]
  },
  {
   "cell_type": "markdown",
   "metadata": {
    "id": "7DC1rKWlua-6"
   },
   "source": [
    "### Criando questões de compreensão de leitura\n",
    "\n",
    "Testes de compreensão de leitura são frequentemente usados em escolas e universidades para avaliar as habilidades de leitura de um aluno. Você pode usar a API PaLM para gerar alguns exemplos de perguntas para testar a compreensão de uma pessoa de uma passagem de texto fornecida."
   ]
  },
  {
   "cell_type": "code",
   "execution_count": null,
   "metadata": {
    "id": "Shb54o4vua-6"
   },
   "outputs": [],
   "source": [
    "prompt = \"\"\"\n",
    "Gere 5 perguntas que testam a compreensão do leitor sobre o seguinte texto.\n",
    "\n",
    "Texto:\n",
    "A floresta amazônica, também chamada de selva amazônica ou Amazônia, é uma floresta tropical úmida de folhas largas no bioma amazônico que cobre a maior parte da bacia amazônica da América do Sul. Esta bacia abrange 7.000.000 km2 (2.700.000 milhas quadradas), dos quais 5.500.000 km2 (2.100.000 milhas quadradas) são cobertos pela floresta tropical. Esta região inclui territórios pertencentes a nove nações e 3.344 territórios indígenas formalmente reconhecidos.\n",
    "\n",
    "A maior parte da floresta, 60%, está no Brasil, seguido pelo Peru com 13%, Colômbia com 10% e com quantidades menores na Bolívia, Equador, Guiana Francesa, Guiana, Suriname e Venezuela. Quatro nações têm \"Amazonas\" como o nome de uma de suas regiões administrativas de primeiro nível, e a França usa o nome \"Parque Amazônico da Guiana\" para a área de floresta tropical protegida da Guiana Francesa. A Amazônia representa mais da metade das florestas tropicais remanescentes do planeta e compreende a maior e mais biodiversa extensão de floresta tropical do mundo, com cerca de 390 bilhões de árvores individuais em cerca de 16.000 espécies.\n",
    "\n",
    "Mais de 30 milhões de pessoas de 350 grupos étnicos diferentes vivem na Amazônia, subdividida em 9 diferentes sistemas políticos nacionais e 3.344 territórios indígenas formalmente reconhecidos. Os povos indígenas representam 9% da população total, e 60 dos grupos permanecem em grande parte isolados.\n",
    "\n",
    "A floresta tropical provavelmente se formou durante a era Eoceno (de 56 milhões de anos para 33,9 milhões de anos atrás). Surgiu após uma redução global das temperaturas tropicais quando o Oceano Atlântico se expandiu o suficiente para fornecer um clima quente e úmido à bacia amazônica. A floresta tropical existe há pelo menos 55 milhões de anos, e a maior parte da região permaneceu livre de biomas do tipo savana pelo menos até a atual era do gelo, quando o clima era mais seco e a savana mais difundida.\n",
    "\n",
    "Após o evento de extinção do Cretáceo-Paleogeno, a extinção dos dinossauros e o clima mais úmido podem ter permitido que a floresta tropical se espalhasse pelo continente. De 66 a 34 Mya, a floresta tropical estendeu-se até 45° ao sul. As flutuações climáticas durante os últimos 34 milhões de anos permitiram que as regiões de savana se expandissem para os trópicos. Durante o Oligoceno, por exemplo, a floresta tropical abrangia uma faixa relativamente estreita. Ele se expandiu novamente durante o Mioceno Médio, depois se retraiu para uma formação predominantemente interior no último máximo glacial. No entanto, a floresta tropical ainda conseguiu prosperar durante esses períodos glaciais, permitindo a sobrevivência e evolução de uma ampla diversidade de espécies.\n",
    "\n",
    "Vista aérea da floresta amazônica\n",
    "Em meados do Eoceno, acredita-se que a bacia de drenagem do Amazonas foi dividida ao meio do continente pelo Arco do Púrus. A água no lado leste fluiu em direção ao Atlântico, enquanto no oeste a água fluiu em direção ao Pacífico através da Bacia do Amazonas. À medida que a Cordilheira dos Andes subia, no entanto, foi criada uma grande bacia que envolvia um lago; hoje conhecida como Bacia do Solimões. Nos últimos 5 a 10 milhões de anos, essa água acumulada rompeu o Arco do Púrus, juntando-se ao fluxo de leste em direção ao Atlântico.\n",
    "\n",
    "Há evidências de que houve mudanças significativas na vegetação da floresta amazônica ao longo dos últimos 21.000 anos através do último máximo glacial (LGM) e subsequente deglaciação. As análises dos depósitos de sedimentos dos paleolagos da bacia amazônica e do leque amazônico indicam que a precipitação na bacia durante o LGM foi menor do que no presente, e isso quase certamente está associado à redução da cobertura de vegetação tropical úmida na bacia. Nos dias atuais, a Amazônia recebe aproximadamente 9 pés de chuva anualmente. Há um debate, no entanto, sobre quão extensa foi essa redução. Alguns cientistas argumentam que a floresta tropical foi reduzida a pequenos refúgios isolados, separados por florestas abertas e pastagens; outros cientistas argumentam que a floresta tropical permaneceu praticamente intacta, mas estendeu-se menos ao norte, sul e leste do que é visto hoje. Este debate provou ser difícil de resolver porque as limitações práticas de trabalhar na floresta tropical significam que a amostragem de dados é desviada do centro da bacia amazônica, e ambas as explicações são razoavelmente bem suportadas pelos dados disponíveis.\n",
    "\n",
    "Poeira do deserto do Saara levada pelo vento para a Amazônia\n",
    "Mais de 56% da poeira que fertiliza a floresta amazônica vem da depressão de Bodélé, no norte do Chade, no deserto do Saara. A poeira contém fósforo, importante para o crescimento das plantas. A poeira anual do Saara substitui a quantidade equivalente de fósforo arrastada anualmente no solo amazônico pelas chuvas e inundações.\n",
    "\n",
    "O satélite CALIPSO da NASA mediu a quantidade de poeira transportada pelo vento do Saara para a Amazônia: uma média de 182 milhões de toneladas de poeira são expelidas do Saara a cada ano, a 15 graus de longitude oeste, ao longo de 2.600 km (1.600 milhas) ao longo o Oceano Atlântico (alguma poeira cai no Atlântico), então a 35 graus de longitude oeste na costa leste da América do Sul, 27,7 milhões de toneladas (15%) de poeira caem sobre a bacia amazônica (22 milhões de toneladas consistem em fósforo) , 132 milhões de toneladas de poeira permanecem no ar, 43 milhões de toneladas de poeira são levadas pelo vento e caem no Mar do Caribe, além de 75 graus de longitude oeste.\n",
    "\n",
    "O CALIPSO usa um telêmetro a laser para escanear a atmosfera da Terra em busca da distribuição vertical de poeira e outros aerossóis. O CALIPSO rastreia regularmente a pluma de poeira Saara-Amazônia. O CALIPSO mediu variações nas quantidades de poeira transportadas – uma queda de 86% entre a maior quantidade de poeira transportada em 2007 e a menor em 2011.\n",
    "Uma possibilidade que causa a variação é o Sahel, uma faixa de terra semiárida na fronteira sul do Saara. Quando as quantidades de chuva no Sahel são maiores, o volume de poeira é menor. A maior pluviosidade poderia fazer com que mais vegetação crescesse no Sahel, deixando menos areia exposta aos ventos.[25]\n",
    "\n",
    "O fósforo da Amazônia também vem como fumaça devido à queima de biomassa na África.\n",
    "\n",
    "Questões:\n",
    "\"\"\"\n",
    "\n",
    "print(\n",
    "    generation_model.predict(prompt, temperature=0.2, max_output_tokens=1024, top_k=40, top_p=0.8).text\n",
    ")"
   ]
  },
  {
   "cell_type": "markdown",
   "metadata": {
    "id": "GCcCMhbOua-7"
   },
   "source": [
    "### Geração de memes\n",
    "\n",
    "Um exemplo de geração de texto mais leve é gerar memes com base em um determinado tópico."
   ]
  },
  {
   "cell_type": "code",
   "execution_count": null,
   "metadata": {
    "id": "6l_BZnx5ua-7"
   },
   "outputs": [],
   "source": [
    "prompt = \"Me dê cinco ideias de memes com gatinhos:\"\n",
    "\n",
    "print(\n",
    "    generation_model.predict(prompt, temperature=0.2, max_output_tokens=1024, top_k=1, top_p=0.8).text\n",
    ")"
   ]
  },
  {
   "cell_type": "markdown",
   "metadata": {
    "id": "q9lnIlmWua-8"
   },
   "source": [
    "### Geração de perguntas de entrevista\n",
    "\n",
    "Quer você seja o entrevistador ou o entrevistado, ter algumas perguntas de amostra com as quais você pode trabalhar pode ser muito útil em entrevistas de emprego. Abaixo, usamos a API PaLM para nos ajudar a gerar algumas possíveis perguntas de entrevista para uma função específica."
   ]
  },
  {
   "cell_type": "code",
   "execution_count": null,
   "metadata": {
    "id": "xGrZMUt5ua-8"
   },
   "outputs": [],
   "source": [
    "prompt = \"Gere dez questões sobre o cargo de prompts engineer para trabalhar com large language models.\"\n",
    "\n",
    "print(\n",
    "    generation_model.predict(prompt, temperature=0.2, max_output_tokens=256, top_k=1, top_p=0.8).text\n",
    ")"
   ]
  },
  {
   "cell_type": "markdown",
   "metadata": {
    "id": "d1nSLoW7ua-8"
   },
   "source": [
    "### Geração de nomes\n",
    "\n",
    "A geração de nomes é útil em vários cenários, como criar novos personagens para uma história ou nomear um novo produto ou empresa. Você pode gerar ideias para nomes de uma entidade especificada usando a API PaLM."
   ]
  },
  {
   "cell_type": "code",
   "execution_count": null,
   "metadata": {
    "id": "qLnUrgs8ua-8"
   },
   "outputs": [],
   "source": [
    "prompt = \"Qual seria um nome legal para uma floricultura especializada em vender buquês de flores desidratadas?\"\n",
    "\n",
    "print(\n",
    "    generation_model.predict(prompt, temperature=0.2, max_output_tokens=256, top_k=1, top_p=0.8).text\n",
    ")"
   ]
  },
  {
   "cell_type": "markdown",
   "metadata": {
    "id": "M5Ca5Btvua-8"
   },
   "source": [
    "### Dicas e conselhos gerais\n",
    "\n",
    "Abaixo está um exemplo de uso da API PaLM para obter dicas e conselhos sobre tópicos gerais."
   ]
  },
  {
   "cell_type": "code",
   "execution_count": null,
   "metadata": {
    "id": "aFy4ix6Cua-9"
   },
   "outputs": [],
   "source": [
    "prompt = \"Quais seriam boas estratégias para superar o bloqueio de escritores?\"\n",
    "\n",
    "print(\n",
    "    generation_model.predict(prompt, temperature=0.2, max_output_tokens=1024, top_k=1, top_p=0.8).text\n",
    ")"
   ]
  },
  {
   "cell_type": "code",
   "execution_count": null,
   "metadata": {},
   "outputs": [],
   "source": []
  }
 ],
 "metadata": {
  "colab": {
   "name": "ideation.ipynb",
   "toc_visible": true
  },
  "environment": {
   "kernel": "python3",
   "name": "tf2-gpu.2-11.m109",
   "type": "gcloud",
   "uri": "gcr.io/deeplearning-platform-release/tf2-gpu.2-11:m109"
  },
  "kernelspec": {
   "display_name": "Python 3",
   "language": "python",
   "name": "python3"
  },
  "language_info": {
   "codemirror_mode": {
    "name": "ipython",
    "version": 3
   },
   "file_extension": ".py",
   "mimetype": "text/x-python",
   "name": "python",
   "nbconvert_exporter": "python",
   "pygments_lexer": "ipython3",
   "version": "3.10.11"
  }
 },
 "nbformat": 4,
 "nbformat_minor": 4
}
